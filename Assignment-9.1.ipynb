{
 "cells": [
  {
   "cell_type": "code",
   "execution_count": 2,
   "metadata": {},
   "outputs": [
    {
     "data": {
      "text/html": [
       "<div>\n",
       "<style>\n",
       "    .dataframe thead tr:only-child th {\n",
       "        text-align: right;\n",
       "    }\n",
       "\n",
       "    .dataframe thead th {\n",
       "        text-align: left;\n",
       "    }\n",
       "\n",
       "    .dataframe tbody tr th {\n",
       "        vertical-align: top;\n",
       "    }\n",
       "</style>\n",
       "<table border=\"1\" class=\"dataframe\">\n",
       "  <thead>\n",
       "    <tr style=\"text-align: right;\">\n",
       "      <th></th>\n",
       "      <th>X</th>\n",
       "    </tr>\n",
       "  </thead>\n",
       "  <tbody>\n",
       "    <tr>\n",
       "      <th>0</th>\n",
       "      <td>7</td>\n",
       "    </tr>\n",
       "    <tr>\n",
       "      <th>1</th>\n",
       "      <td>2</td>\n",
       "    </tr>\n",
       "    <tr>\n",
       "      <th>2</th>\n",
       "      <td>0</td>\n",
       "    </tr>\n",
       "    <tr>\n",
       "      <th>3</th>\n",
       "      <td>3</td>\n",
       "    </tr>\n",
       "    <tr>\n",
       "      <th>4</th>\n",
       "      <td>4</td>\n",
       "    </tr>\n",
       "    <tr>\n",
       "      <th>5</th>\n",
       "      <td>2</td>\n",
       "    </tr>\n",
       "    <tr>\n",
       "      <th>6</th>\n",
       "      <td>5</td>\n",
       "    </tr>\n",
       "    <tr>\n",
       "      <th>7</th>\n",
       "      <td>0</td>\n",
       "    </tr>\n",
       "    <tr>\n",
       "      <th>8</th>\n",
       "      <td>3</td>\n",
       "    </tr>\n",
       "    <tr>\n",
       "      <th>9</th>\n",
       "      <td>4</td>\n",
       "    </tr>\n",
       "  </tbody>\n",
       "</table>\n",
       "</div>"
      ],
      "text/plain": [
       "   X\n",
       "0  7\n",
       "1  2\n",
       "2  0\n",
       "3  3\n",
       "4  4\n",
       "5  2\n",
       "6  5\n",
       "7  0\n",
       "8  3\n",
       "9  4"
      ]
     },
     "execution_count": 2,
     "metadata": {},
     "output_type": "execute_result"
    }
   ],
   "source": [
    "import pandas as pd\n",
    "df = pd.DataFrame({'X': [7, 2, 0, 3, 4, 2, 5, 0, 3, 4]})\n",
    "df"
   ]
  },
  {
   "cell_type": "code",
   "execution_count": 3,
   "metadata": {
    "collapsed": true
   },
   "outputs": [],
   "source": [
    "import numpy as np\n",
    "izero = np.r_[-1, (df['X'] == 0).nonzero()[0]] # indices of zeros\n",
    "idx = np.arange(len(df))\n",
    "df['Y'] = idx - izero[np.searchsorted(izero - 1, idx) - 1]\n"
   ]
  },
  {
   "cell_type": "code",
   "execution_count": 4,
   "metadata": {},
   "outputs": [
    {
     "data": {
      "text/plain": [
       "0    1\n",
       "1    2\n",
       "2    0\n",
       "3    1\n",
       "4    2\n",
       "5    3\n",
       "6    4\n",
       "7    0\n",
       "8    1\n",
       "9    2\n",
       "Name: Y, dtype: int64"
      ]
     },
     "execution_count": 4,
     "metadata": {},
     "output_type": "execute_result"
    }
   ],
   "source": [
    "df['Y']"
   ]
  },
  {
   "cell_type": "code",
   "execution_count": 5,
   "metadata": {},
   "outputs": [],
   "source": [
    "#2.Create a DatetimeIndex that contains each business day of 2015 and use it to index a Series of random numbers. Let's call this Series s.\n",
    "dti = pd.date_range(start='2015-01-01', end='2015-12-31', freq='B') \n",
    "s = pd.Series(np.random.rand(len(dti)), index=dti)"
   ]
  },
  {
   "cell_type": "code",
   "execution_count": 6,
   "metadata": {},
   "outputs": [
    {
     "data": {
      "text/plain": [
       "2015-01-01    0.569718\n",
       "2015-01-02    0.954535\n",
       "2015-01-05    0.916617\n",
       "2015-01-06    0.015372\n",
       "2015-01-07    0.362789\n",
       "2015-01-08    0.991753\n",
       "2015-01-09    0.929122\n",
       "2015-01-12    0.266542\n",
       "2015-01-13    0.079833\n",
       "2015-01-14    0.541730\n",
       "2015-01-15    0.100190\n",
       "2015-01-16    0.564707\n",
       "2015-01-19    0.780878\n",
       "2015-01-20    0.253899\n",
       "2015-01-21    0.373805\n",
       "2015-01-22    0.906188\n",
       "2015-01-23    0.579602\n",
       "2015-01-26    0.362701\n",
       "2015-01-27    0.682689\n",
       "2015-01-28    0.626855\n",
       "2015-01-29    0.921036\n",
       "2015-01-30    0.327249\n",
       "2015-02-02    0.267078\n",
       "2015-02-03    0.779095\n",
       "2015-02-04    0.363809\n",
       "2015-02-05    0.879739\n",
       "2015-02-06    0.220141\n",
       "2015-02-09    0.533730\n",
       "2015-02-10    0.774366\n",
       "2015-02-11    0.660784\n",
       "                ...   \n",
       "2015-11-20    0.848968\n",
       "2015-11-23    0.764487\n",
       "2015-11-24    0.885977\n",
       "2015-11-25    0.010493\n",
       "2015-11-26    0.672604\n",
       "2015-11-27    0.666154\n",
       "2015-11-30    0.275483\n",
       "2015-12-01    0.179202\n",
       "2015-12-02    0.824607\n",
       "2015-12-03    0.233242\n",
       "2015-12-04    0.739519\n",
       "2015-12-07    0.476985\n",
       "2015-12-08    0.958451\n",
       "2015-12-09    0.575538\n",
       "2015-12-10    0.898585\n",
       "2015-12-11    0.765145\n",
       "2015-12-14    0.002649\n",
       "2015-12-15    0.009699\n",
       "2015-12-16    0.215669\n",
       "2015-12-17    0.619519\n",
       "2015-12-18    0.779145\n",
       "2015-12-21    0.420544\n",
       "2015-12-22    0.264067\n",
       "2015-12-23    0.349115\n",
       "2015-12-24    0.084416\n",
       "2015-12-25    0.270852\n",
       "2015-12-28    0.310066\n",
       "2015-12-29    0.999608\n",
       "2015-12-30    0.034576\n",
       "2015-12-31    0.339302\n",
       "Freq: B, Length: 261, dtype: float64"
      ]
     },
     "execution_count": 6,
     "metadata": {},
     "output_type": "execute_result"
    }
   ],
   "source": [
    "s"
   ]
  },
  {
   "cell_type": "code",
   "execution_count": 7,
   "metadata": {},
   "outputs": [
    {
     "data": {
      "text/plain": [
       "23.874820131193676"
      ]
     },
     "execution_count": 7,
     "metadata": {},
     "output_type": "execute_result"
    }
   ],
   "source": [
    "#3.Find the sum of the values in s for every Wednesday.\n",
    "s[s.index.weekday == 2].sum()"
   ]
  },
  {
   "cell_type": "code",
   "execution_count": 9,
   "metadata": {},
   "outputs": [
    {
     "data": {
      "text/plain": [
       "2015-01-31    0.550355\n",
       "2015-02-28    0.515739\n",
       "2015-03-31    0.460202\n",
       "2015-04-30    0.529060\n",
       "2015-05-31    0.511344\n",
       "2015-06-30    0.600001\n",
       "2015-07-31    0.667993\n",
       "2015-08-31    0.559148\n",
       "2015-09-30    0.530720\n",
       "2015-10-31    0.539213\n",
       "2015-11-30    0.490626\n",
       "2015-12-31    0.450022\n",
       "Freq: M, dtype: float64"
      ]
     },
     "execution_count": 9,
     "metadata": {},
     "output_type": "execute_result"
    }
   ],
   "source": [
    "#4.Average For each calendar month\n",
    "s.resample('M').mean()"
   ]
  },
  {
   "cell_type": "code",
   "execution_count": 10,
   "metadata": {},
   "outputs": [
    {
     "data": {
      "text/plain": [
       "2015-01-31   2015-01-08\n",
       "2015-05-31   2015-05-08\n",
       "2015-09-30   2015-09-01\n",
       "2016-01-31   2015-12-29\n",
       "Freq: 4M, dtype: datetime64[ns]"
      ]
     },
     "execution_count": 10,
     "metadata": {},
     "output_type": "execute_result"
    }
   ],
   "source": [
    "#5.For each group of four consecutive calendar months in s, find the date on which the highest value occurred\n",
    "s.groupby(pd.TimeGrouper('4M')).idxmax()"
   ]
  }
 ],
 "metadata": {
  "kernelspec": {
   "display_name": "Python 3",
   "language": "python",
   "name": "python3"
  },
  "language_info": {
   "codemirror_mode": {
    "name": "ipython",
    "version": 3
   },
   "file_extension": ".py",
   "mimetype": "text/x-python",
   "name": "python",
   "nbconvert_exporter": "python",
   "pygments_lexer": "ipython3",
   "version": "3.6.3"
  }
 },
 "nbformat": 4,
 "nbformat_minor": 2
}
